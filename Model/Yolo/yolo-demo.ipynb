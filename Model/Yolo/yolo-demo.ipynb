{
 "cells": [
  {
   "cell_type": "code",
   "execution_count": 1,
   "metadata": {
    "pycharm": {
     "name": "#%%\n"
    }
   },
   "outputs": [],
   "source": [
    "import torch\n",
    "from IPython.display import Image  # for displaying images\n",
    "import os\n",
    "import random\n",
    "import shutil\n",
    "from sklearn.model_selection import train_test_split\n",
    "import xml.etree.ElementTree as ET\n",
    "from xml.dom import minidom\n",
    "from tqdm import tqdm\n",
    "from PIL import Image, ImageDraw\n",
    "import numpy as np\n",
    "import matplotlib.pyplot as plt"
   ]
  },
  {
   "cell_type": "code",
   "execution_count": 81,
   "metadata": {},
   "outputs": [
    {
     "name": "stdout",
     "output_type": "stream",
     "text": [
      "Requirement already satisfied: tqdm in /home/jun/.local/lib/python3.8/site-packages (4.64.0)\r\n"
     ]
    }
   ],
   "source": [
    "!pip install tqdm"
   ]
  },
  {
   "cell_type": "code",
   "execution_count": 44,
   "metadata": {
    "pycharm": {
     "name": "#%%\n"
    }
   },
   "outputs": [],
   "source": [
    "random.seed(108)\n",
    "\n",
    "ANNOTATION_PATH = \"/home/jun/Github/Data/Thesis-Data/Ripe-Raw-ok/test/xml\"\n",
    "IMAGE_PATH = \"/home/jun/Github/Data/Thesis-Data/Ripe-Raw-ok/test/img\""
   ]
  },
  {
   "cell_type": "code",
   "execution_count": 45,
   "metadata": {
    "pycharm": {
     "name": "#%%\n"
    }
   },
   "outputs": [],
   "source": [
    "# Function to get the data from XML Annotation\n",
    "def extract_info_from_xml(xml_file):\n",
    "    root = ET.parse(xml_file).getroot()\n",
    "\n",
    "    # Initialise the info dict\n",
    "    info_dict = {}\n",
    "    info_dict['bboxes'] = []\n",
    "\n",
    "    # Parse the XML Tree\n",
    "    for elem in root:\n",
    "        # Get the file name\n",
    "        if elem.tag == \"filename\":\n",
    "            info_dict['filename'] = elem.text\n",
    "            # print(elem.text)\n",
    "        # Get the image size\n",
    "        elif elem.tag == \"size\":\n",
    "            image_size = []\n",
    "            for subelem in elem:\n",
    "                image_size.append(int(subelem.text))\n",
    "\n",
    "            info_dict['image_size'] = tuple(image_size)\n",
    "\n",
    "        # Get details of the bounding box\n",
    "        elif elem.tag == \"object\":\n",
    "            bbox = {}\n",
    "            for subelem in elem:\n",
    "                if subelem.tag == \"name\":\n",
    "                    bbox[\"class\"] = subelem.text\n",
    "\n",
    "                elif subelem.tag == \"bndbox\":\n",
    "                    for subsubelem in subelem:\n",
    "                        bbox[subsubelem.tag] = int(subsubelem.text)\n",
    "            info_dict['bboxes'].append(bbox)\n",
    "\n",
    "    return info_dict\n"
   ]
  },
  {
   "cell_type": "code",
   "execution_count": 46,
   "metadata": {
    "pycharm": {
     "name": "#%%\n"
    }
   },
   "outputs": [],
   "source": [
    "# Dictionary that maps class names to IDs\n",
    "class_name_to_id_mapping = {\"background\": 0, \"0\": 1, \"1\": 2}"
   ]
  },
  {
   "cell_type": "code",
   "execution_count": 47,
   "metadata": {
    "pycharm": {
     "name": "#%%\n"
    }
   },
   "outputs": [],
   "source": [
    "# Convert the info dict to the required yolo format and write it to disk\n",
    "def convert_to_yolov5(info_dict):\n",
    "    print_buffer = []\n",
    "\n",
    "    # For each bounding box\n",
    "    for b in info_dict[\"bboxes\"]:\n",
    "        try:\n",
    "            class_id = class_name_to_id_mapping[b[\"class\"]]\n",
    "        except KeyError:\n",
    "            print(\"Invalid Class. Must be one from \", class_name_to_id_mapping.keys())\n",
    "\n",
    "        # Transform the bbox co-ordinates as per the format required by YOLO v5\n",
    "        b_center_x = (b[\"xmin\"] + b[\"xmax\"]) / 2\n",
    "        b_center_y = (b[\"ymin\"] + b[\"ymax\"]) / 2\n",
    "        b_width = (b[\"xmax\"] - b[\"xmin\"])\n",
    "        b_height = (b[\"ymax\"] - b[\"ymin\"])\n",
    "\n",
    "        # Normalise the co-ordinates by the dimensions of the image\n",
    "        image_w, image_h, image_c = info_dict[\"image_size\"]\n",
    "        b_center_x /= image_w\n",
    "        b_center_y /= image_h\n",
    "        b_width /= image_w\n",
    "        b_height /= image_h\n",
    "\n",
    "        # Write the bbox details to the file\n",
    "        print_buffer.append(\n",
    "            \"{} {:.3f} {:.3f} {:.3f} {:.3f}\".format(class_id, b_center_x, b_center_y, b_width, b_height))\n",
    "\n",
    "    # Name of the file which we have to save\n",
    "    save_file_name = os.path.join(ANNOTATION_PATH, info_dict[\"filename\"].replace(\".jpg\",\".txt\"))\n",
    "\n",
    "    # Save the annotation to disk\n",
    "    print(\"\\n\".join(print_buffer), file=open(save_file_name, \"w\"))"
   ]
  },
  {
   "cell_type": "code",
   "execution_count": 48,
   "metadata": {
    "pycharm": {
     "name": "#%%\n"
    }
   },
   "outputs": [],
   "source": [
    "# Get the annotations\n",
    "annotations = [os.path.join(ANNOTATION_PATH, x) for x in os.listdir(ANNOTATION_PATH) if x[-3:] == \"xml\"]\n",
    "annotations.sort()"
   ]
  },
  {
   "cell_type": "code",
   "execution_count": 49,
   "metadata": {
    "pycharm": {
     "name": "#%%\n"
    }
   },
   "outputs": [
    {
     "data": {
      "text/plain": [
       "613"
      ]
     },
     "execution_count": 49,
     "metadata": {},
     "output_type": "execute_result"
    }
   ],
   "source": [
    "len(annotations)"
   ]
  },
  {
   "cell_type": "code",
   "execution_count": 50,
   "metadata": {
    "pycharm": {
     "name": "#%%\n"
    }
   },
   "outputs": [
    {
     "name": "stderr",
     "output_type": "stream",
     "text": [
      "100%|██████████| 613/613 [00:00<00:00, 4776.97it/s]\n"
     ]
    }
   ],
   "source": [
    "# # Convert and save the annotations\n",
    "for ann in tqdm(annotations):\n",
    "    # print(ann)\n",
    "    info_dict = extract_info_from_xml(ann)\n",
    "    # print(len(info_dict))\n",
    "    convert_to_yolov5(info_dict)\n",
    "annotations = [os.path.join(ANNOTATION_PATH, x) for x in os.listdir(ANNOTATION_PATH) if x[-3:] == \"txt\"]"
   ]
  },
  {
   "cell_type": "code",
   "execution_count": 51,
   "metadata": {
    "pycharm": {
     "name": "#%%\n"
    }
   },
   "outputs": [
    {
     "data": {
      "text/plain": [
       "['/home/jun/Github/Data/Thesis-Data/Ripe-Raw-ok/test/xml/00401.txt',\n",
       " '/home/jun/Github/Data/Thesis-Data/Ripe-Raw-ok/test/xml/00104.txt',\n",
       " '/home/jun/Github/Data/Thesis-Data/Ripe-Raw-ok/test/xml/00577.txt',\n",
       " '/home/jun/Github/Data/Thesis-Data/Ripe-Raw-ok/test/xml/00225.txt',\n",
       " '/home/jun/Github/Data/Thesis-Data/Ripe-Raw-ok/test/xml/00063.txt',\n",
       " '/home/jun/Github/Data/Thesis-Data/Ripe-Raw-ok/test/xml/00333.txt',\n",
       " '/home/jun/Github/Data/Thesis-Data/Ripe-Raw-ok/test/xml/00509.txt',\n",
       " '/home/jun/Github/Data/Thesis-Data/Ripe-Raw-ok/test/xml/00205.txt',\n",
       " '/home/jun/Github/Data/Thesis-Data/Ripe-Raw-ok/test/xml/00562.txt',\n",
       " '/home/jun/Github/Data/Thesis-Data/Ripe-Raw-ok/test/xml/00482.txt',\n",
       " '/home/jun/Github/Data/Thesis-Data/Ripe-Raw-ok/test/xml/00287.txt',\n",
       " '/home/jun/Github/Data/Thesis-Data/Ripe-Raw-ok/test/xml/00042.txt',\n",
       " '/home/jun/Github/Data/Thesis-Data/Ripe-Raw-ok/test/xml/00031.txt',\n",
       " '/home/jun/Github/Data/Thesis-Data/Ripe-Raw-ok/test/xml/00314.txt',\n",
       " '/home/jun/Github/Data/Thesis-Data/Ripe-Raw-ok/test/xml/00052.txt',\n",
       " '/home/jun/Github/Data/Thesis-Data/Ripe-Raw-ok/test/xml/00214.txt',\n",
       " '/home/jun/Github/Data/Thesis-Data/Ripe-Raw-ok/test/xml/00252.txt',\n",
       " '/home/jun/Github/Data/Thesis-Data/Ripe-Raw-ok/test/xml/00020.txt',\n",
       " '/home/jun/Github/Data/Thesis-Data/Ripe-Raw-ok/test/xml/00480.txt',\n",
       " '/home/jun/Github/Data/Thesis-Data/Ripe-Raw-ok/test/xml/00189.txt',\n",
       " '/home/jun/Github/Data/Thesis-Data/Ripe-Raw-ok/test/xml/00581.txt',\n",
       " '/home/jun/Github/Data/Thesis-Data/Ripe-Raw-ok/test/xml/00306.txt',\n",
       " '/home/jun/Github/Data/Thesis-Data/Ripe-Raw-ok/test/xml/00498.txt',\n",
       " '/home/jun/Github/Data/Thesis-Data/Ripe-Raw-ok/test/xml/00607.txt',\n",
       " '/home/jun/Github/Data/Thesis-Data/Ripe-Raw-ok/test/xml/00144.txt',\n",
       " '/home/jun/Github/Data/Thesis-Data/Ripe-Raw-ok/test/xml/00010.txt',\n",
       " '/home/jun/Github/Data/Thesis-Data/Ripe-Raw-ok/test/xml/00329.txt',\n",
       " '/home/jun/Github/Data/Thesis-Data/Ripe-Raw-ok/test/xml/00576.txt',\n",
       " '/home/jun/Github/Data/Thesis-Data/Ripe-Raw-ok/test/xml/00084.txt',\n",
       " '/home/jun/Github/Data/Thesis-Data/Ripe-Raw-ok/test/xml/00391.txt',\n",
       " '/home/jun/Github/Data/Thesis-Data/Ripe-Raw-ok/test/xml/00046.txt',\n",
       " '/home/jun/Github/Data/Thesis-Data/Ripe-Raw-ok/test/xml/00285.txt',\n",
       " '/home/jun/Github/Data/Thesis-Data/Ripe-Raw-ok/test/xml/00293.txt',\n",
       " '/home/jun/Github/Data/Thesis-Data/Ripe-Raw-ok/test/xml/00548.txt',\n",
       " '/home/jun/Github/Data/Thesis-Data/Ripe-Raw-ok/test/xml/00337.txt',\n",
       " '/home/jun/Github/Data/Thesis-Data/Ripe-Raw-ok/test/xml/00129.txt',\n",
       " '/home/jun/Github/Data/Thesis-Data/Ripe-Raw-ok/test/xml/00325.txt',\n",
       " '/home/jun/Github/Data/Thesis-Data/Ripe-Raw-ok/test/xml/00135.txt',\n",
       " '/home/jun/Github/Data/Thesis-Data/Ripe-Raw-ok/test/xml/00122.txt',\n",
       " '/home/jun/Github/Data/Thesis-Data/Ripe-Raw-ok/test/xml/00096.txt',\n",
       " '/home/jun/Github/Data/Thesis-Data/Ripe-Raw-ok/test/xml/00572.txt',\n",
       " '/home/jun/Github/Data/Thesis-Data/Ripe-Raw-ok/test/xml/00079.txt',\n",
       " '/home/jun/Github/Data/Thesis-Data/Ripe-Raw-ok/test/xml/00310.txt',\n",
       " '/home/jun/Github/Data/Thesis-Data/Ripe-Raw-ok/test/xml/00238.txt',\n",
       " '/home/jun/Github/Data/Thesis-Data/Ripe-Raw-ok/test/xml/00167.txt',\n",
       " '/home/jun/Github/Data/Thesis-Data/Ripe-Raw-ok/test/xml/00270.txt',\n",
       " '/home/jun/Github/Data/Thesis-Data/Ripe-Raw-ok/test/xml/00108.txt',\n",
       " '/home/jun/Github/Data/Thesis-Data/Ripe-Raw-ok/test/xml/00121.txt',\n",
       " '/home/jun/Github/Data/Thesis-Data/Ripe-Raw-ok/test/xml/00393.txt',\n",
       " '/home/jun/Github/Data/Thesis-Data/Ripe-Raw-ok/test/xml/00385.txt',\n",
       " '/home/jun/Github/Data/Thesis-Data/Ripe-Raw-ok/test/xml/00262.txt',\n",
       " '/home/jun/Github/Data/Thesis-Data/Ripe-Raw-ok/test/xml/00496.txt',\n",
       " '/home/jun/Github/Data/Thesis-Data/Ripe-Raw-ok/test/xml/00382.txt',\n",
       " '/home/jun/Github/Data/Thesis-Data/Ripe-Raw-ok/test/xml/00553.txt',\n",
       " '/home/jun/Github/Data/Thesis-Data/Ripe-Raw-ok/test/xml/00139.txt',\n",
       " '/home/jun/Github/Data/Thesis-Data/Ripe-Raw-ok/test/xml/00610.txt',\n",
       " '/home/jun/Github/Data/Thesis-Data/Ripe-Raw-ok/test/xml/00425.txt',\n",
       " '/home/jun/Github/Data/Thesis-Data/Ripe-Raw-ok/test/xml/00359.txt',\n",
       " '/home/jun/Github/Data/Thesis-Data/Ripe-Raw-ok/test/xml/00172.txt',\n",
       " '/home/jun/Github/Data/Thesis-Data/Ripe-Raw-ok/test/xml/00101.txt',\n",
       " '/home/jun/Github/Data/Thesis-Data/Ripe-Raw-ok/test/xml/00222.txt',\n",
       " '/home/jun/Github/Data/Thesis-Data/Ripe-Raw-ok/test/xml/00526.txt',\n",
       " '/home/jun/Github/Data/Thesis-Data/Ripe-Raw-ok/test/xml/00594.txt',\n",
       " '/home/jun/Github/Data/Thesis-Data/Ripe-Raw-ok/test/xml/00109.txt',\n",
       " '/home/jun/Github/Data/Thesis-Data/Ripe-Raw-ok/test/xml/00228.txt',\n",
       " '/home/jun/Github/Data/Thesis-Data/Ripe-Raw-ok/test/xml/00555.txt',\n",
       " '/home/jun/Github/Data/Thesis-Data/Ripe-Raw-ok/test/xml/00219.txt',\n",
       " '/home/jun/Github/Data/Thesis-Data/Ripe-Raw-ok/test/xml/00239.txt',\n",
       " '/home/jun/Github/Data/Thesis-Data/Ripe-Raw-ok/test/xml/00298.txt',\n",
       " '/home/jun/Github/Data/Thesis-Data/Ripe-Raw-ok/test/xml/00369.txt',\n",
       " '/home/jun/Github/Data/Thesis-Data/Ripe-Raw-ok/test/xml/00544.txt',\n",
       " '/home/jun/Github/Data/Thesis-Data/Ripe-Raw-ok/test/xml/00203.txt',\n",
       " '/home/jun/Github/Data/Thesis-Data/Ripe-Raw-ok/test/xml/00460.txt',\n",
       " '/home/jun/Github/Data/Thesis-Data/Ripe-Raw-ok/test/xml/00275.txt',\n",
       " '/home/jun/Github/Data/Thesis-Data/Ripe-Raw-ok/test/xml/00098.txt',\n",
       " '/home/jun/Github/Data/Thesis-Data/Ripe-Raw-ok/test/xml/00250.txt',\n",
       " '/home/jun/Github/Data/Thesis-Data/Ripe-Raw-ok/test/xml/00399.txt',\n",
       " '/home/jun/Github/Data/Thesis-Data/Ripe-Raw-ok/test/xml/00400.txt',\n",
       " '/home/jun/Github/Data/Thesis-Data/Ripe-Raw-ok/test/xml/00284.txt',\n",
       " '/home/jun/Github/Data/Thesis-Data/Ripe-Raw-ok/test/xml/00392.txt',\n",
       " '/home/jun/Github/Data/Thesis-Data/Ripe-Raw-ok/test/xml/00493.txt',\n",
       " '/home/jun/Github/Data/Thesis-Data/Ripe-Raw-ok/test/xml/00403.txt',\n",
       " '/home/jun/Github/Data/Thesis-Data/Ripe-Raw-ok/test/xml/00446.txt',\n",
       " '/home/jun/Github/Data/Thesis-Data/Ripe-Raw-ok/test/xml/00254.txt',\n",
       " '/home/jun/Github/Data/Thesis-Data/Ripe-Raw-ok/test/xml/00267.txt',\n",
       " '/home/jun/Github/Data/Thesis-Data/Ripe-Raw-ok/test/xml/00074.txt',\n",
       " '/home/jun/Github/Data/Thesis-Data/Ripe-Raw-ok/test/xml/00468.txt',\n",
       " '/home/jun/Github/Data/Thesis-Data/Ripe-Raw-ok/test/xml/00462.txt',\n",
       " '/home/jun/Github/Data/Thesis-Data/Ripe-Raw-ok/test/xml/00583.txt',\n",
       " '/home/jun/Github/Data/Thesis-Data/Ripe-Raw-ok/test/xml/00466.txt',\n",
       " '/home/jun/Github/Data/Thesis-Data/Ripe-Raw-ok/test/xml/00593.txt',\n",
       " '/home/jun/Github/Data/Thesis-Data/Ripe-Raw-ok/test/xml/00483.txt',\n",
       " '/home/jun/Github/Data/Thesis-Data/Ripe-Raw-ok/test/xml/00006.txt',\n",
       " '/home/jun/Github/Data/Thesis-Data/Ripe-Raw-ok/test/xml/00316.txt',\n",
       " '/home/jun/Github/Data/Thesis-Data/Ripe-Raw-ok/test/xml/00410.txt',\n",
       " '/home/jun/Github/Data/Thesis-Data/Ripe-Raw-ok/test/xml/00170.txt',\n",
       " '/home/jun/Github/Data/Thesis-Data/Ripe-Raw-ok/test/xml/00054.txt',\n",
       " '/home/jun/Github/Data/Thesis-Data/Ripe-Raw-ok/test/xml/00224.txt',\n",
       " '/home/jun/Github/Data/Thesis-Data/Ripe-Raw-ok/test/xml/00289.txt',\n",
       " '/home/jun/Github/Data/Thesis-Data/Ripe-Raw-ok/test/xml/00380.txt',\n",
       " '/home/jun/Github/Data/Thesis-Data/Ripe-Raw-ok/test/xml/00011.txt',\n",
       " '/home/jun/Github/Data/Thesis-Data/Ripe-Raw-ok/test/xml/00132.txt',\n",
       " '/home/jun/Github/Data/Thesis-Data/Ripe-Raw-ok/test/xml/00140.txt',\n",
       " '/home/jun/Github/Data/Thesis-Data/Ripe-Raw-ok/test/xml/00123.txt',\n",
       " '/home/jun/Github/Data/Thesis-Data/Ripe-Raw-ok/test/xml/00533.txt',\n",
       " '/home/jun/Github/Data/Thesis-Data/Ripe-Raw-ok/test/xml/00566.txt',\n",
       " '/home/jun/Github/Data/Thesis-Data/Ripe-Raw-ok/test/xml/00110.txt',\n",
       " '/home/jun/Github/Data/Thesis-Data/Ripe-Raw-ok/test/xml/00489.txt',\n",
       " '/home/jun/Github/Data/Thesis-Data/Ripe-Raw-ok/test/xml/00416.txt',\n",
       " '/home/jun/Github/Data/Thesis-Data/Ripe-Raw-ok/test/xml/00484.txt',\n",
       " '/home/jun/Github/Data/Thesis-Data/Ripe-Raw-ok/test/xml/00283.txt',\n",
       " '/home/jun/Github/Data/Thesis-Data/Ripe-Raw-ok/test/xml/00009.txt',\n",
       " '/home/jun/Github/Data/Thesis-Data/Ripe-Raw-ok/test/xml/00539.txt',\n",
       " '/home/jun/Github/Data/Thesis-Data/Ripe-Raw-ok/test/xml/00396.txt',\n",
       " '/home/jun/Github/Data/Thesis-Data/Ripe-Raw-ok/test/xml/00180.txt',\n",
       " '/home/jun/Github/Data/Thesis-Data/Ripe-Raw-ok/test/xml/00320.txt',\n",
       " '/home/jun/Github/Data/Thesis-Data/Ripe-Raw-ok/test/xml/00495.txt',\n",
       " '/home/jun/Github/Data/Thesis-Data/Ripe-Raw-ok/test/xml/00240.txt',\n",
       " '/home/jun/Github/Data/Thesis-Data/Ripe-Raw-ok/test/xml/00218.txt',\n",
       " '/home/jun/Github/Data/Thesis-Data/Ripe-Raw-ok/test/xml/00268.txt',\n",
       " '/home/jun/Github/Data/Thesis-Data/Ripe-Raw-ok/test/xml/00245.txt',\n",
       " '/home/jun/Github/Data/Thesis-Data/Ripe-Raw-ok/test/xml/00378.txt',\n",
       " '/home/jun/Github/Data/Thesis-Data/Ripe-Raw-ok/test/xml/00302.txt',\n",
       " '/home/jun/Github/Data/Thesis-Data/Ripe-Raw-ok/test/xml/00178.txt',\n",
       " '/home/jun/Github/Data/Thesis-Data/Ripe-Raw-ok/test/xml/00428.txt',\n",
       " '/home/jun/Github/Data/Thesis-Data/Ripe-Raw-ok/test/xml/00176.txt',\n",
       " '/home/jun/Github/Data/Thesis-Data/Ripe-Raw-ok/test/xml/00204.txt',\n",
       " '/home/jun/Github/Data/Thesis-Data/Ripe-Raw-ok/test/xml/00341.txt',\n",
       " '/home/jun/Github/Data/Thesis-Data/Ripe-Raw-ok/test/xml/00374.txt',\n",
       " '/home/jun/Github/Data/Thesis-Data/Ripe-Raw-ok/test/xml/00164.txt',\n",
       " '/home/jun/Github/Data/Thesis-Data/Ripe-Raw-ok/test/xml/00002.txt',\n",
       " '/home/jun/Github/Data/Thesis-Data/Ripe-Raw-ok/test/xml/00407.txt',\n",
       " '/home/jun/Github/Data/Thesis-Data/Ripe-Raw-ok/test/xml/00599.txt',\n",
       " '/home/jun/Github/Data/Thesis-Data/Ripe-Raw-ok/test/xml/00497.txt',\n",
       " '/home/jun/Github/Data/Thesis-Data/Ripe-Raw-ok/test/xml/00356.txt',\n",
       " '/home/jun/Github/Data/Thesis-Data/Ripe-Raw-ok/test/xml/00432.txt',\n",
       " '/home/jun/Github/Data/Thesis-Data/Ripe-Raw-ok/test/xml/00043.txt',\n",
       " '/home/jun/Github/Data/Thesis-Data/Ripe-Raw-ok/test/xml/00417.txt',\n",
       " '/home/jun/Github/Data/Thesis-Data/Ripe-Raw-ok/test/xml/00558.txt',\n",
       " '/home/jun/Github/Data/Thesis-Data/Ripe-Raw-ok/test/xml/00336.txt',\n",
       " '/home/jun/Github/Data/Thesis-Data/Ripe-Raw-ok/test/xml/00146.txt',\n",
       " '/home/jun/Github/Data/Thesis-Data/Ripe-Raw-ok/test/xml/00536.txt',\n",
       " '/home/jun/Github/Data/Thesis-Data/Ripe-Raw-ok/test/xml/00358.txt',\n",
       " '/home/jun/Github/Data/Thesis-Data/Ripe-Raw-ok/test/xml/00504.txt',\n",
       " '/home/jun/Github/Data/Thesis-Data/Ripe-Raw-ok/test/xml/00322.txt',\n",
       " '/home/jun/Github/Data/Thesis-Data/Ripe-Raw-ok/test/xml/00524.txt',\n",
       " '/home/jun/Github/Data/Thesis-Data/Ripe-Raw-ok/test/xml/00559.txt',\n",
       " '/home/jun/Github/Data/Thesis-Data/Ripe-Raw-ok/test/xml/00340.txt',\n",
       " '/home/jun/Github/Data/Thesis-Data/Ripe-Raw-ok/test/xml/00307.txt',\n",
       " '/home/jun/Github/Data/Thesis-Data/Ripe-Raw-ok/test/xml/00580.txt',\n",
       " '/home/jun/Github/Data/Thesis-Data/Ripe-Raw-ok/test/xml/00182.txt',\n",
       " '/home/jun/Github/Data/Thesis-Data/Ripe-Raw-ok/test/xml/00184.txt',\n",
       " '/home/jun/Github/Data/Thesis-Data/Ripe-Raw-ok/test/xml/00105.txt',\n",
       " '/home/jun/Github/Data/Thesis-Data/Ripe-Raw-ok/test/xml/00288.txt',\n",
       " '/home/jun/Github/Data/Thesis-Data/Ripe-Raw-ok/test/xml/00515.txt',\n",
       " '/home/jun/Github/Data/Thesis-Data/Ripe-Raw-ok/test/xml/00161.txt',\n",
       " '/home/jun/Github/Data/Thesis-Data/Ripe-Raw-ok/test/xml/00457.txt',\n",
       " '/home/jun/Github/Data/Thesis-Data/Ripe-Raw-ok/test/xml/00116.txt',\n",
       " '/home/jun/Github/Data/Thesis-Data/Ripe-Raw-ok/test/xml/00060.txt',\n",
       " '/home/jun/Github/Data/Thesis-Data/Ripe-Raw-ok/test/xml/00373.txt',\n",
       " '/home/jun/Github/Data/Thesis-Data/Ripe-Raw-ok/test/xml/00286.txt',\n",
       " '/home/jun/Github/Data/Thesis-Data/Ripe-Raw-ok/test/xml/00127.txt',\n",
       " '/home/jun/Github/Data/Thesis-Data/Ripe-Raw-ok/test/xml/00355.txt',\n",
       " '/home/jun/Github/Data/Thesis-Data/Ripe-Raw-ok/test/xml/00308.txt',\n",
       " '/home/jun/Github/Data/Thesis-Data/Ripe-Raw-ok/test/xml/00259.txt',\n",
       " '/home/jun/Github/Data/Thesis-Data/Ripe-Raw-ok/test/xml/00235.txt',\n",
       " '/home/jun/Github/Data/Thesis-Data/Ripe-Raw-ok/test/xml/00585.txt',\n",
       " '/home/jun/Github/Data/Thesis-Data/Ripe-Raw-ok/test/xml/00039.txt',\n",
       " '/home/jun/Github/Data/Thesis-Data/Ripe-Raw-ok/test/xml/00511.txt',\n",
       " '/home/jun/Github/Data/Thesis-Data/Ripe-Raw-ok/test/xml/00274.txt',\n",
       " '/home/jun/Github/Data/Thesis-Data/Ripe-Raw-ok/test/xml/00464.txt',\n",
       " '/home/jun/Github/Data/Thesis-Data/Ripe-Raw-ok/test/xml/00502.txt',\n",
       " '/home/jun/Github/Data/Thesis-Data/Ripe-Raw-ok/test/xml/00439.txt',\n",
       " '/home/jun/Github/Data/Thesis-Data/Ripe-Raw-ok/test/xml/00048.txt',\n",
       " '/home/jun/Github/Data/Thesis-Data/Ripe-Raw-ok/test/xml/00163.txt',\n",
       " '/home/jun/Github/Data/Thesis-Data/Ripe-Raw-ok/test/xml/00027.txt',\n",
       " '/home/jun/Github/Data/Thesis-Data/Ripe-Raw-ok/test/xml/00194.txt',\n",
       " '/home/jun/Github/Data/Thesis-Data/Ripe-Raw-ok/test/xml/00128.txt',\n",
       " '/home/jun/Github/Data/Thesis-Data/Ripe-Raw-ok/test/xml/00472.txt',\n",
       " '/home/jun/Github/Data/Thesis-Data/Ripe-Raw-ok/test/xml/00034.txt',\n",
       " '/home/jun/Github/Data/Thesis-Data/Ripe-Raw-ok/test/xml/00512.txt',\n",
       " '/home/jun/Github/Data/Thesis-Data/Ripe-Raw-ok/test/xml/00195.txt',\n",
       " '/home/jun/Github/Data/Thesis-Data/Ripe-Raw-ok/test/xml/00567.txt',\n",
       " '/home/jun/Github/Data/Thesis-Data/Ripe-Raw-ok/test/xml/00234.txt',\n",
       " '/home/jun/Github/Data/Thesis-Data/Ripe-Raw-ok/test/xml/00351.txt',\n",
       " '/home/jun/Github/Data/Thesis-Data/Ripe-Raw-ok/test/xml/00418.txt',\n",
       " '/home/jun/Github/Data/Thesis-Data/Ripe-Raw-ok/test/xml/00059.txt',\n",
       " '/home/jun/Github/Data/Thesis-Data/Ripe-Raw-ok/test/xml/00003.txt',\n",
       " '/home/jun/Github/Data/Thesis-Data/Ripe-Raw-ok/test/xml/00007.txt',\n",
       " '/home/jun/Github/Data/Thesis-Data/Ripe-Raw-ok/test/xml/00324.txt',\n",
       " '/home/jun/Github/Data/Thesis-Data/Ripe-Raw-ok/test/xml/00323.txt',\n",
       " '/home/jun/Github/Data/Thesis-Data/Ripe-Raw-ok/test/xml/00085.txt',\n",
       " '/home/jun/Github/Data/Thesis-Data/Ripe-Raw-ok/test/xml/00277.txt',\n",
       " '/home/jun/Github/Data/Thesis-Data/Ripe-Raw-ok/test/xml/00461.txt',\n",
       " '/home/jun/Github/Data/Thesis-Data/Ripe-Raw-ok/test/xml/00014.txt',\n",
       " '/home/jun/Github/Data/Thesis-Data/Ripe-Raw-ok/test/xml/00023.txt',\n",
       " '/home/jun/Github/Data/Thesis-Data/Ripe-Raw-ok/test/xml/00151.txt',\n",
       " '/home/jun/Github/Data/Thesis-Data/Ripe-Raw-ok/test/xml/00557.txt',\n",
       " '/home/jun/Github/Data/Thesis-Data/Ripe-Raw-ok/test/xml/00527.txt',\n",
       " '/home/jun/Github/Data/Thesis-Data/Ripe-Raw-ok/test/xml/00529.txt',\n",
       " '/home/jun/Github/Data/Thesis-Data/Ripe-Raw-ok/test/xml/00185.txt',\n",
       " '/home/jun/Github/Data/Thesis-Data/Ripe-Raw-ok/test/xml/00160.txt',\n",
       " '/home/jun/Github/Data/Thesis-Data/Ripe-Raw-ok/test/xml/00229.txt',\n",
       " '/home/jun/Github/Data/Thesis-Data/Ripe-Raw-ok/test/xml/00332.txt',\n",
       " '/home/jun/Github/Data/Thesis-Data/Ripe-Raw-ok/test/xml/00276.txt',\n",
       " '/home/jun/Github/Data/Thesis-Data/Ripe-Raw-ok/test/xml/00381.txt',\n",
       " '/home/jun/Github/Data/Thesis-Data/Ripe-Raw-ok/test/xml/00442.txt',\n",
       " '/home/jun/Github/Data/Thesis-Data/Ripe-Raw-ok/test/xml/00068.txt',\n",
       " '/home/jun/Github/Data/Thesis-Data/Ripe-Raw-ok/test/xml/00281.txt',\n",
       " '/home/jun/Github/Data/Thesis-Data/Ripe-Raw-ok/test/xml/00058.txt',\n",
       " '/home/jun/Github/Data/Thesis-Data/Ripe-Raw-ok/test/xml/00605.txt',\n",
       " '/home/jun/Github/Data/Thesis-Data/Ripe-Raw-ok/test/xml/00467.txt',\n",
       " '/home/jun/Github/Data/Thesis-Data/Ripe-Raw-ok/test/xml/00227.txt',\n",
       " '/home/jun/Github/Data/Thesis-Data/Ripe-Raw-ok/test/xml/00420.txt',\n",
       " '/home/jun/Github/Data/Thesis-Data/Ripe-Raw-ok/test/xml/00406.txt',\n",
       " '/home/jun/Github/Data/Thesis-Data/Ripe-Raw-ok/test/xml/00441.txt',\n",
       " '/home/jun/Github/Data/Thesis-Data/Ripe-Raw-ok/test/xml/00149.txt',\n",
       " '/home/jun/Github/Data/Thesis-Data/Ripe-Raw-ok/test/xml/00453.txt',\n",
       " '/home/jun/Github/Data/Thesis-Data/Ripe-Raw-ok/test/xml/00049.txt',\n",
       " '/home/jun/Github/Data/Thesis-Data/Ripe-Raw-ok/test/xml/00072.txt',\n",
       " '/home/jun/Github/Data/Thesis-Data/Ripe-Raw-ok/test/xml/00488.txt',\n",
       " '/home/jun/Github/Data/Thesis-Data/Ripe-Raw-ok/test/xml/00456.txt',\n",
       " '/home/jun/Github/Data/Thesis-Data/Ripe-Raw-ok/test/xml/00404.txt',\n",
       " '/home/jun/Github/Data/Thesis-Data/Ripe-Raw-ok/test/xml/00532.txt',\n",
       " '/home/jun/Github/Data/Thesis-Data/Ripe-Raw-ok/test/xml/00183.txt',\n",
       " '/home/jun/Github/Data/Thesis-Data/Ripe-Raw-ok/test/xml/00192.txt',\n",
       " '/home/jun/Github/Data/Thesis-Data/Ripe-Raw-ok/test/xml/00278.txt',\n",
       " '/home/jun/Github/Data/Thesis-Data/Ripe-Raw-ok/test/xml/00148.txt',\n",
       " '/home/jun/Github/Data/Thesis-Data/Ripe-Raw-ok/test/xml/00454.txt',\n",
       " '/home/jun/Github/Data/Thesis-Data/Ripe-Raw-ok/test/xml/00422.txt',\n",
       " '/home/jun/Github/Data/Thesis-Data/Ripe-Raw-ok/test/xml/00394.txt',\n",
       " '/home/jun/Github/Data/Thesis-Data/Ripe-Raw-ok/test/xml/00389.txt',\n",
       " '/home/jun/Github/Data/Thesis-Data/Ripe-Raw-ok/test/xml/00517.txt',\n",
       " '/home/jun/Github/Data/Thesis-Data/Ripe-Raw-ok/test/xml/00611.txt',\n",
       " '/home/jun/Github/Data/Thesis-Data/Ripe-Raw-ok/test/xml/00294.txt',\n",
       " '/home/jun/Github/Data/Thesis-Data/Ripe-Raw-ok/test/xml/00600.txt',\n",
       " '/home/jun/Github/Data/Thesis-Data/Ripe-Raw-ok/test/xml/00305.txt',\n",
       " '/home/jun/Github/Data/Thesis-Data/Ripe-Raw-ok/test/xml/00556.txt',\n",
       " '/home/jun/Github/Data/Thesis-Data/Ripe-Raw-ok/test/xml/00113.txt',\n",
       " '/home/jun/Github/Data/Thesis-Data/Ripe-Raw-ok/test/xml/00347.txt',\n",
       " '/home/jun/Github/Data/Thesis-Data/Ripe-Raw-ok/test/xml/00018.txt',\n",
       " '/home/jun/Github/Data/Thesis-Data/Ripe-Raw-ok/test/xml/00601.txt',\n",
       " '/home/jun/Github/Data/Thesis-Data/Ripe-Raw-ok/test/xml/00119.txt',\n",
       " '/home/jun/Github/Data/Thesis-Data/Ripe-Raw-ok/test/xml/00549.txt',\n",
       " '/home/jun/Github/Data/Thesis-Data/Ripe-Raw-ok/test/xml/00045.txt',\n",
       " '/home/jun/Github/Data/Thesis-Data/Ripe-Raw-ok/test/xml/00216.txt',\n",
       " '/home/jun/Github/Data/Thesis-Data/Ripe-Raw-ok/test/xml/00199.txt',\n",
       " '/home/jun/Github/Data/Thesis-Data/Ripe-Raw-ok/test/xml/00159.txt',\n",
       " '/home/jun/Github/Data/Thesis-Data/Ripe-Raw-ok/test/xml/00552.txt',\n",
       " '/home/jun/Github/Data/Thesis-Data/Ripe-Raw-ok/test/xml/00158.txt',\n",
       " '/home/jun/Github/Data/Thesis-Data/Ripe-Raw-ok/test/xml/00070.txt',\n",
       " '/home/jun/Github/Data/Thesis-Data/Ripe-Raw-ok/test/xml/00056.txt',\n",
       " '/home/jun/Github/Data/Thesis-Data/Ripe-Raw-ok/test/xml/00223.txt',\n",
       " '/home/jun/Github/Data/Thesis-Data/Ripe-Raw-ok/test/xml/00053.txt',\n",
       " '/home/jun/Github/Data/Thesis-Data/Ripe-Raw-ok/test/xml/00078.txt',\n",
       " '/home/jun/Github/Data/Thesis-Data/Ripe-Raw-ok/test/xml/00012.txt',\n",
       " '/home/jun/Github/Data/Thesis-Data/Ripe-Raw-ok/test/xml/00328.txt',\n",
       " '/home/jun/Github/Data/Thesis-Data/Ripe-Raw-ok/test/xml/00531.txt',\n",
       " '/home/jun/Github/Data/Thesis-Data/Ripe-Raw-ok/test/xml/00264.txt',\n",
       " '/home/jun/Github/Data/Thesis-Data/Ripe-Raw-ok/test/xml/00100.txt',\n",
       " '/home/jun/Github/Data/Thesis-Data/Ripe-Raw-ok/test/xml/00379.txt',\n",
       " '/home/jun/Github/Data/Thesis-Data/Ripe-Raw-ok/test/xml/00016.txt',\n",
       " '/home/jun/Github/Data/Thesis-Data/Ripe-Raw-ok/test/xml/00117.txt',\n",
       " '/home/jun/Github/Data/Thesis-Data/Ripe-Raw-ok/test/xml/00008.txt',\n",
       " '/home/jun/Github/Data/Thesis-Data/Ripe-Raw-ok/test/xml/00206.txt',\n",
       " '/home/jun/Github/Data/Thesis-Data/Ripe-Raw-ok/test/xml/00429.txt',\n",
       " '/home/jun/Github/Data/Thesis-Data/Ripe-Raw-ok/test/xml/00463.txt',\n",
       " '/home/jun/Github/Data/Thesis-Data/Ripe-Raw-ok/test/xml/00541.txt',\n",
       " '/home/jun/Github/Data/Thesis-Data/Ripe-Raw-ok/test/xml/00297.txt',\n",
       " '/home/jun/Github/Data/Thesis-Data/Ripe-Raw-ok/test/xml/00414.txt',\n",
       " '/home/jun/Github/Data/Thesis-Data/Ripe-Raw-ok/test/xml/00282.txt',\n",
       " '/home/jun/Github/Data/Thesis-Data/Ripe-Raw-ok/test/xml/00296.txt',\n",
       " '/home/jun/Github/Data/Thesis-Data/Ripe-Raw-ok/test/xml/00033.txt',\n",
       " '/home/jun/Github/Data/Thesis-Data/Ripe-Raw-ok/test/xml/00244.txt',\n",
       " '/home/jun/Github/Data/Thesis-Data/Ripe-Raw-ok/test/xml/00261.txt',\n",
       " '/home/jun/Github/Data/Thesis-Data/Ripe-Raw-ok/test/xml/00026.txt',\n",
       " '/home/jun/Github/Data/Thesis-Data/Ripe-Raw-ok/test/xml/00506.txt',\n",
       " '/home/jun/Github/Data/Thesis-Data/Ripe-Raw-ok/test/xml/00345.txt',\n",
       " '/home/jun/Github/Data/Thesis-Data/Ripe-Raw-ok/test/xml/00368.txt',\n",
       " '/home/jun/Github/Data/Thesis-Data/Ripe-Raw-ok/test/xml/00346.txt',\n",
       " '/home/jun/Github/Data/Thesis-Data/Ripe-Raw-ok/test/xml/00226.txt',\n",
       " '/home/jun/Github/Data/Thesis-Data/Ripe-Raw-ok/test/xml/00236.txt',\n",
       " '/home/jun/Github/Data/Thesis-Data/Ripe-Raw-ok/test/xml/00317.txt',\n",
       " '/home/jun/Github/Data/Thesis-Data/Ripe-Raw-ok/test/xml/00202.txt',\n",
       " '/home/jun/Github/Data/Thesis-Data/Ripe-Raw-ok/test/xml/00044.txt',\n",
       " '/home/jun/Github/Data/Thesis-Data/Ripe-Raw-ok/test/xml/00408.txt',\n",
       " '/home/jun/Github/Data/Thesis-Data/Ripe-Raw-ok/test/xml/00157.txt',\n",
       " '/home/jun/Github/Data/Thesis-Data/Ripe-Raw-ok/test/xml/00221.txt',\n",
       " '/home/jun/Github/Data/Thesis-Data/Ripe-Raw-ok/test/xml/00301.txt',\n",
       " '/home/jun/Github/Data/Thesis-Data/Ripe-Raw-ok/test/xml/00292.txt',\n",
       " '/home/jun/Github/Data/Thesis-Data/Ripe-Raw-ok/test/xml/00551.txt',\n",
       " '/home/jun/Github/Data/Thesis-Data/Ripe-Raw-ok/test/xml/00303.txt',\n",
       " '/home/jun/Github/Data/Thesis-Data/Ripe-Raw-ok/test/xml/00384.txt',\n",
       " '/home/jun/Github/Data/Thesis-Data/Ripe-Raw-ok/test/xml/00142.txt',\n",
       " '/home/jun/Github/Data/Thesis-Data/Ripe-Raw-ok/test/xml/00024.txt',\n",
       " '/home/jun/Github/Data/Thesis-Data/Ripe-Raw-ok/test/xml/00190.txt',\n",
       " '/home/jun/Github/Data/Thesis-Data/Ripe-Raw-ok/test/xml/00272.txt',\n",
       " '/home/jun/Github/Data/Thesis-Data/Ripe-Raw-ok/test/xml/00037.txt',\n",
       " '/home/jun/Github/Data/Thesis-Data/Ripe-Raw-ok/test/xml/00586.txt',\n",
       " '/home/jun/Github/Data/Thesis-Data/Ripe-Raw-ok/test/xml/00291.txt',\n",
       " '/home/jun/Github/Data/Thesis-Data/Ripe-Raw-ok/test/xml/00421.txt',\n",
       " '/home/jun/Github/Data/Thesis-Data/Ripe-Raw-ok/test/xml/00177.txt',\n",
       " '/home/jun/Github/Data/Thesis-Data/Ripe-Raw-ok/test/xml/00321.txt',\n",
       " '/home/jun/Github/Data/Thesis-Data/Ripe-Raw-ok/test/xml/00088.txt',\n",
       " '/home/jun/Github/Data/Thesis-Data/Ripe-Raw-ok/test/xml/00518.txt',\n",
       " '/home/jun/Github/Data/Thesis-Data/Ripe-Raw-ok/test/xml/00077.txt',\n",
       " '/home/jun/Github/Data/Thesis-Data/Ripe-Raw-ok/test/xml/00062.txt',\n",
       " '/home/jun/Github/Data/Thesis-Data/Ripe-Raw-ok/test/xml/00047.txt',\n",
       " '/home/jun/Github/Data/Thesis-Data/Ripe-Raw-ok/test/xml/00143.txt',\n",
       " '/home/jun/Github/Data/Thesis-Data/Ripe-Raw-ok/test/xml/00362.txt',\n",
       " '/home/jun/Github/Data/Thesis-Data/Ripe-Raw-ok/test/xml/00538.txt',\n",
       " '/home/jun/Github/Data/Thesis-Data/Ripe-Raw-ok/test/xml/00207.txt',\n",
       " '/home/jun/Github/Data/Thesis-Data/Ripe-Raw-ok/test/xml/00106.txt',\n",
       " '/home/jun/Github/Data/Thesis-Data/Ripe-Raw-ok/test/xml/00247.txt',\n",
       " '/home/jun/Github/Data/Thesis-Data/Ripe-Raw-ok/test/xml/00433.txt',\n",
       " '/home/jun/Github/Data/Thesis-Data/Ripe-Raw-ok/test/xml/00609.txt',\n",
       " '/home/jun/Github/Data/Thesis-Data/Ripe-Raw-ok/test/xml/00349.txt',\n",
       " '/home/jun/Github/Data/Thesis-Data/Ripe-Raw-ok/test/xml/00186.txt',\n",
       " '/home/jun/Github/Data/Thesis-Data/Ripe-Raw-ok/test/xml/00602.txt',\n",
       " '/home/jun/Github/Data/Thesis-Data/Ripe-Raw-ok/test/xml/00448.txt',\n",
       " '/home/jun/Github/Data/Thesis-Data/Ripe-Raw-ok/test/xml/00137.txt',\n",
       " '/home/jun/Github/Data/Thesis-Data/Ripe-Raw-ok/test/xml/00300.txt',\n",
       " '/home/jun/Github/Data/Thesis-Data/Ripe-Raw-ok/test/xml/00413.txt',\n",
       " '/home/jun/Github/Data/Thesis-Data/Ripe-Raw-ok/test/xml/00449.txt',\n",
       " '/home/jun/Github/Data/Thesis-Data/Ripe-Raw-ok/test/xml/00269.txt',\n",
       " '/home/jun/Github/Data/Thesis-Data/Ripe-Raw-ok/test/xml/00386.txt',\n",
       " '/home/jun/Github/Data/Thesis-Data/Ripe-Raw-ok/test/xml/00279.txt',\n",
       " '/home/jun/Github/Data/Thesis-Data/Ripe-Raw-ok/test/xml/00210.txt',\n",
       " '/home/jun/Github/Data/Thesis-Data/Ripe-Raw-ok/test/xml/00232.txt',\n",
       " '/home/jun/Github/Data/Thesis-Data/Ripe-Raw-ok/test/xml/00051.txt',\n",
       " '/home/jun/Github/Data/Thesis-Data/Ripe-Raw-ok/test/xml/00465.txt',\n",
       " '/home/jun/Github/Data/Thesis-Data/Ripe-Raw-ok/test/xml/00435.txt',\n",
       " '/home/jun/Github/Data/Thesis-Data/Ripe-Raw-ok/test/xml/00520.txt',\n",
       " '/home/jun/Github/Data/Thesis-Data/Ripe-Raw-ok/test/xml/00363.txt',\n",
       " '/home/jun/Github/Data/Thesis-Data/Ripe-Raw-ok/test/xml/00451.txt',\n",
       " '/home/jun/Github/Data/Thesis-Data/Ripe-Raw-ok/test/xml/00057.txt',\n",
       " '/home/jun/Github/Data/Thesis-Data/Ripe-Raw-ok/test/xml/00343.txt',\n",
       " '/home/jun/Github/Data/Thesis-Data/Ripe-Raw-ok/test/xml/00155.txt',\n",
       " '/home/jun/Github/Data/Thesis-Data/Ripe-Raw-ok/test/xml/00579.txt',\n",
       " '/home/jun/Github/Data/Thesis-Data/Ripe-Raw-ok/test/xml/00550.txt',\n",
       " '/home/jun/Github/Data/Thesis-Data/Ripe-Raw-ok/test/xml/00130.txt',\n",
       " '/home/jun/Github/Data/Thesis-Data/Ripe-Raw-ok/test/xml/00575.txt',\n",
       " '/home/jun/Github/Data/Thesis-Data/Ripe-Raw-ok/test/xml/00138.txt',\n",
       " '/home/jun/Github/Data/Thesis-Data/Ripe-Raw-ok/test/xml/00086.txt',\n",
       " '/home/jun/Github/Data/Thesis-Data/Ripe-Raw-ok/test/xml/00366.txt',\n",
       " '/home/jun/Github/Data/Thesis-Data/Ripe-Raw-ok/test/xml/00083.txt',\n",
       " '/home/jun/Github/Data/Thesis-Data/Ripe-Raw-ok/test/xml/00530.txt',\n",
       " '/home/jun/Github/Data/Thesis-Data/Ripe-Raw-ok/test/xml/00535.txt',\n",
       " '/home/jun/Github/Data/Thesis-Data/Ripe-Raw-ok/test/xml/00081.txt',\n",
       " '/home/jun/Github/Data/Thesis-Data/Ripe-Raw-ok/test/xml/00265.txt',\n",
       " '/home/jun/Github/Data/Thesis-Data/Ripe-Raw-ok/test/xml/00445.txt',\n",
       " '/home/jun/Github/Data/Thesis-Data/Ripe-Raw-ok/test/xml/00365.txt',\n",
       " '/home/jun/Github/Data/Thesis-Data/Ripe-Raw-ok/test/xml/00377.txt',\n",
       " '/home/jun/Github/Data/Thesis-Data/Ripe-Raw-ok/test/xml/00230.txt',\n",
       " '/home/jun/Github/Data/Thesis-Data/Ripe-Raw-ok/test/xml/00543.txt',\n",
       " '/home/jun/Github/Data/Thesis-Data/Ripe-Raw-ok/test/xml/00246.txt',\n",
       " '/home/jun/Github/Data/Thesis-Data/Ripe-Raw-ok/test/xml/00334.txt',\n",
       " '/home/jun/Github/Data/Thesis-Data/Ripe-Raw-ok/test/xml/00537.txt',\n",
       " '/home/jun/Github/Data/Thesis-Data/Ripe-Raw-ok/test/xml/00174.txt',\n",
       " '/home/jun/Github/Data/Thesis-Data/Ripe-Raw-ok/test/xml/00212.txt',\n",
       " '/home/jun/Github/Data/Thesis-Data/Ripe-Raw-ok/test/xml/00153.txt',\n",
       " '/home/jun/Github/Data/Thesis-Data/Ripe-Raw-ok/test/xml/00591.txt',\n",
       " '/home/jun/Github/Data/Thesis-Data/Ripe-Raw-ok/test/xml/00503.txt',\n",
       " '/home/jun/Github/Data/Thesis-Data/Ripe-Raw-ok/test/xml/00107.txt',\n",
       " '/home/jun/Github/Data/Thesis-Data/Ripe-Raw-ok/test/xml/00213.txt',\n",
       " '/home/jun/Github/Data/Thesis-Data/Ripe-Raw-ok/test/xml/00561.txt',\n",
       " '/home/jun/Github/Data/Thesis-Data/Ripe-Raw-ok/test/xml/00327.txt',\n",
       " '/home/jun/Github/Data/Thesis-Data/Ripe-Raw-ok/test/xml/00596.txt',\n",
       " '/home/jun/Github/Data/Thesis-Data/Ripe-Raw-ok/test/xml/00595.txt',\n",
       " '/home/jun/Github/Data/Thesis-Data/Ripe-Raw-ok/test/xml/00440.txt',\n",
       " '/home/jun/Github/Data/Thesis-Data/Ripe-Raw-ok/test/xml/00578.txt',\n",
       " '/home/jun/Github/Data/Thesis-Data/Ripe-Raw-ok/test/xml/00208.txt',\n",
       " '/home/jun/Github/Data/Thesis-Data/Ripe-Raw-ok/test/xml/00015.txt',\n",
       " '/home/jun/Github/Data/Thesis-Data/Ripe-Raw-ok/test/xml/00141.txt',\n",
       " '/home/jun/Github/Data/Thesis-Data/Ripe-Raw-ok/test/xml/00055.txt',\n",
       " '/home/jun/Github/Data/Thesis-Data/Ripe-Raw-ok/test/xml/00534.txt',\n",
       " '/home/jun/Github/Data/Thesis-Data/Ripe-Raw-ok/test/xml/00390.txt',\n",
       " '/home/jun/Github/Data/Thesis-Data/Ripe-Raw-ok/test/xml/00437.txt',\n",
       " '/home/jun/Github/Data/Thesis-Data/Ripe-Raw-ok/test/xml/00434.txt',\n",
       " '/home/jun/Github/Data/Thesis-Data/Ripe-Raw-ok/test/xml/00136.txt',\n",
       " '/home/jun/Github/Data/Thesis-Data/Ripe-Raw-ok/test/xml/00036.txt',\n",
       " '/home/jun/Github/Data/Thesis-Data/Ripe-Raw-ok/test/xml/00050.txt',\n",
       " '/home/jun/Github/Data/Thesis-Data/Ripe-Raw-ok/test/xml/00375.txt',\n",
       " '/home/jun/Github/Data/Thesis-Data/Ripe-Raw-ok/test/xml/00313.txt',\n",
       " '/home/jun/Github/Data/Thesis-Data/Ripe-Raw-ok/test/xml/00370.txt',\n",
       " '/home/jun/Github/Data/Thesis-Data/Ripe-Raw-ok/test/xml/00166.txt',\n",
       " '/home/jun/Github/Data/Thesis-Data/Ripe-Raw-ok/test/xml/00251.txt',\n",
       " '/home/jun/Github/Data/Thesis-Data/Ripe-Raw-ok/test/xml/00092.txt',\n",
       " '/home/jun/Github/Data/Thesis-Data/Ripe-Raw-ok/test/xml/00040.txt',\n",
       " '/home/jun/Github/Data/Thesis-Data/Ripe-Raw-ok/test/xml/00295.txt',\n",
       " '/home/jun/Github/Data/Thesis-Data/Ripe-Raw-ok/test/xml/00076.txt',\n",
       " '/home/jun/Github/Data/Thesis-Data/Ripe-Raw-ok/test/xml/00360.txt',\n",
       " '/home/jun/Github/Data/Thesis-Data/Ripe-Raw-ok/test/xml/00447.txt',\n",
       " '/home/jun/Github/Data/Thesis-Data/Ripe-Raw-ok/test/xml/00487.txt',\n",
       " '/home/jun/Github/Data/Thesis-Data/Ripe-Raw-ok/test/xml/00094.txt',\n",
       " '/home/jun/Github/Data/Thesis-Data/Ripe-Raw-ok/test/xml/00211.txt',\n",
       " '/home/jun/Github/Data/Thesis-Data/Ripe-Raw-ok/test/xml/00220.txt',\n",
       " '/home/jun/Github/Data/Thesis-Data/Ripe-Raw-ok/test/xml/00299.txt',\n",
       " '/home/jun/Github/Data/Thesis-Data/Ripe-Raw-ok/test/xml/00311.txt',\n",
       " '/home/jun/Github/Data/Thesis-Data/Ripe-Raw-ok/test/xml/00256.txt',\n",
       " '/home/jun/Github/Data/Thesis-Data/Ripe-Raw-ok/test/xml/00470.txt',\n",
       " '/home/jun/Github/Data/Thesis-Data/Ripe-Raw-ok/test/xml/00542.txt',\n",
       " '/home/jun/Github/Data/Thesis-Data/Ripe-Raw-ok/test/xml/00241.txt',\n",
       " '/home/jun/Github/Data/Thesis-Data/Ripe-Raw-ok/test/xml/00398.txt',\n",
       " '/home/jun/Github/Data/Thesis-Data/Ripe-Raw-ok/test/xml/00028.txt',\n",
       " '/home/jun/Github/Data/Thesis-Data/Ripe-Raw-ok/test/xml/00574.txt',\n",
       " '/home/jun/Github/Data/Thesis-Data/Ripe-Raw-ok/test/xml/00004.txt',\n",
       " '/home/jun/Github/Data/Thesis-Data/Ripe-Raw-ok/test/xml/00582.txt',\n",
       " '/home/jun/Github/Data/Thesis-Data/Ripe-Raw-ok/test/xml/00598.txt',\n",
       " '/home/jun/Github/Data/Thesis-Data/Ripe-Raw-ok/test/xml/00604.txt',\n",
       " '/home/jun/Github/Data/Thesis-Data/Ripe-Raw-ok/test/xml/00326.txt',\n",
       " '/home/jun/Github/Data/Thesis-Data/Ripe-Raw-ok/test/xml/00209.txt',\n",
       " '/home/jun/Github/Data/Thesis-Data/Ripe-Raw-ok/test/xml/00540.txt',\n",
       " '/home/jun/Github/Data/Thesis-Data/Ripe-Raw-ok/test/xml/00387.txt',\n",
       " '/home/jun/Github/Data/Thesis-Data/Ripe-Raw-ok/test/xml/00187.txt',\n",
       " '/home/jun/Github/Data/Thesis-Data/Ripe-Raw-ok/test/xml/00111.txt',\n",
       " '/home/jun/Github/Data/Thesis-Data/Ripe-Raw-ok/test/xml/00458.txt',\n",
       " '/home/jun/Github/Data/Thesis-Data/Ripe-Raw-ok/test/xml/00061.txt',\n",
       " '/home/jun/Github/Data/Thesis-Data/Ripe-Raw-ok/test/xml/00319.txt',\n",
       " '/home/jun/Github/Data/Thesis-Data/Ripe-Raw-ok/test/xml/00330.txt',\n",
       " '/home/jun/Github/Data/Thesis-Data/Ripe-Raw-ok/test/xml/00102.txt',\n",
       " '/home/jun/Github/Data/Thesis-Data/Ripe-Raw-ok/test/xml/00197.txt',\n",
       " '/home/jun/Github/Data/Thesis-Data/Ripe-Raw-ok/test/xml/00438.txt',\n",
       " '/home/jun/Github/Data/Thesis-Data/Ripe-Raw-ok/test/xml/00198.txt',\n",
       " '/home/jun/Github/Data/Thesis-Data/Ripe-Raw-ok/test/xml/00253.txt',\n",
       " '/home/jun/Github/Data/Thesis-Data/Ripe-Raw-ok/test/xml/00431.txt',\n",
       " '/home/jun/Github/Data/Thesis-Data/Ripe-Raw-ok/test/xml/00481.txt',\n",
       " '/home/jun/Github/Data/Thesis-Data/Ripe-Raw-ok/test/xml/00565.txt',\n",
       " '/home/jun/Github/Data/Thesis-Data/Ripe-Raw-ok/test/xml/00395.txt',\n",
       " '/home/jun/Github/Data/Thesis-Data/Ripe-Raw-ok/test/xml/00115.txt',\n",
       " '/home/jun/Github/Data/Thesis-Data/Ripe-Raw-ok/test/xml/00606.txt',\n",
       " '/home/jun/Github/Data/Thesis-Data/Ripe-Raw-ok/test/xml/00069.txt',\n",
       " '/home/jun/Github/Data/Thesis-Data/Ripe-Raw-ok/test/xml/00450.txt',\n",
       " '/home/jun/Github/Data/Thesis-Data/Ripe-Raw-ok/test/xml/00397.txt',\n",
       " '/home/jun/Github/Data/Thesis-Data/Ripe-Raw-ok/test/xml/00388.txt',\n",
       " '/home/jun/Github/Data/Thesis-Data/Ripe-Raw-ok/test/xml/00564.txt',\n",
       " '/home/jun/Github/Data/Thesis-Data/Ripe-Raw-ok/test/xml/00118.txt',\n",
       " '/home/jun/Github/Data/Thesis-Data/Ripe-Raw-ok/test/xml/00494.txt',\n",
       " '/home/jun/Github/Data/Thesis-Data/Ripe-Raw-ok/test/xml/00383.txt',\n",
       " '/home/jun/Github/Data/Thesis-Data/Ripe-Raw-ok/test/xml/00075.txt',\n",
       " '/home/jun/Github/Data/Thesis-Data/Ripe-Raw-ok/test/xml/00573.txt',\n",
       " '/home/jun/Github/Data/Thesis-Data/Ripe-Raw-ok/test/xml/00233.txt',\n",
       " '/home/jun/Github/Data/Thesis-Data/Ripe-Raw-ok/test/xml/00150.txt',\n",
       " '/home/jun/Github/Data/Thesis-Data/Ripe-Raw-ok/test/xml/00022.txt',\n",
       " '/home/jun/Github/Data/Thesis-Data/Ripe-Raw-ok/test/xml/00114.txt',\n",
       " '/home/jun/Github/Data/Thesis-Data/Ripe-Raw-ok/test/xml/00304.txt',\n",
       " '/home/jun/Github/Data/Thesis-Data/Ripe-Raw-ok/test/xml/00513.txt',\n",
       " '/home/jun/Github/Data/Thesis-Data/Ripe-Raw-ok/test/xml/00099.txt',\n",
       " '/home/jun/Github/Data/Thesis-Data/Ripe-Raw-ok/test/xml/00005.txt',\n",
       " '/home/jun/Github/Data/Thesis-Data/Ripe-Raw-ok/test/xml/00608.txt',\n",
       " '/home/jun/Github/Data/Thesis-Data/Ripe-Raw-ok/test/xml/00455.txt',\n",
       " '/home/jun/Github/Data/Thesis-Data/Ripe-Raw-ok/test/xml/00154.txt',\n",
       " '/home/jun/Github/Data/Thesis-Data/Ripe-Raw-ok/test/xml/00424.txt',\n",
       " '/home/jun/Github/Data/Thesis-Data/Ripe-Raw-ok/test/xml/00597.txt',\n",
       " '/home/jun/Github/Data/Thesis-Data/Ripe-Raw-ok/test/xml/00147.txt',\n",
       " '/home/jun/Github/Data/Thesis-Data/Ripe-Raw-ok/test/xml/00112.txt',\n",
       " '/home/jun/Github/Data/Thesis-Data/Ripe-Raw-ok/test/xml/00290.txt',\n",
       " '/home/jun/Github/Data/Thesis-Data/Ripe-Raw-ok/test/xml/00361.txt',\n",
       " '/home/jun/Github/Data/Thesis-Data/Ripe-Raw-ok/test/xml/00013.txt',\n",
       " '/home/jun/Github/Data/Thesis-Data/Ripe-Raw-ok/test/xml/00354.txt',\n",
       " '/home/jun/Github/Data/Thesis-Data/Ripe-Raw-ok/test/xml/00590.txt',\n",
       " '/home/jun/Github/Data/Thesis-Data/Ripe-Raw-ok/test/xml/00152.txt',\n",
       " '/home/jun/Github/Data/Thesis-Data/Ripe-Raw-ok/test/xml/00126.txt',\n",
       " '/home/jun/Github/Data/Thesis-Data/Ripe-Raw-ok/test/xml/00089.txt',\n",
       " '/home/jun/Github/Data/Thesis-Data/Ripe-Raw-ok/test/xml/00335.txt',\n",
       " '/home/jun/Github/Data/Thesis-Data/Ripe-Raw-ok/test/xml/00478.txt',\n",
       " '/home/jun/Github/Data/Thesis-Data/Ripe-Raw-ok/test/xml/00344.txt',\n",
       " '/home/jun/Github/Data/Thesis-Data/Ripe-Raw-ok/test/xml/00082.txt',\n",
       " '/home/jun/Github/Data/Thesis-Data/Ripe-Raw-ok/test/xml/00249.txt',\n",
       " '/home/jun/Github/Data/Thesis-Data/Ripe-Raw-ok/test/xml/00071.txt',\n",
       " '/home/jun/Github/Data/Thesis-Data/Ripe-Raw-ok/test/xml/00560.txt',\n",
       " '/home/jun/Github/Data/Thesis-Data/Ripe-Raw-ok/test/xml/00191.txt',\n",
       " '/home/jun/Github/Data/Thesis-Data/Ripe-Raw-ok/test/xml/00426.txt',\n",
       " '/home/jun/Github/Data/Thesis-Data/Ripe-Raw-ok/test/xml/00423.txt',\n",
       " '/home/jun/Github/Data/Thesis-Data/Ripe-Raw-ok/test/xml/00603.txt',\n",
       " '/home/jun/Github/Data/Thesis-Data/Ripe-Raw-ok/test/xml/00352.txt',\n",
       " '/home/jun/Github/Data/Thesis-Data/Ripe-Raw-ok/test/xml/00569.txt',\n",
       " '/home/jun/Github/Data/Thesis-Data/Ripe-Raw-ok/test/xml/00613.txt',\n",
       " '/home/jun/Github/Data/Thesis-Data/Ripe-Raw-ok/test/xml/00528.txt',\n",
       " '/home/jun/Github/Data/Thesis-Data/Ripe-Raw-ok/test/xml/00120.txt',\n",
       " '/home/jun/Github/Data/Thesis-Data/Ripe-Raw-ok/test/xml/00041.txt',\n",
       " '/home/jun/Github/Data/Thesis-Data/Ripe-Raw-ok/test/xml/00331.txt',\n",
       " '/home/jun/Github/Data/Thesis-Data/Ripe-Raw-ok/test/xml/00479.txt',\n",
       " '/home/jun/Github/Data/Thesis-Data/Ripe-Raw-ok/test/xml/00443.txt',\n",
       " '/home/jun/Github/Data/Thesis-Data/Ripe-Raw-ok/test/xml/00588.txt',\n",
       " '/home/jun/Github/Data/Thesis-Data/Ripe-Raw-ok/test/xml/00179.txt',\n",
       " '/home/jun/Github/Data/Thesis-Data/Ripe-Raw-ok/test/xml/00093.txt',\n",
       " '/home/jun/Github/Data/Thesis-Data/Ripe-Raw-ok/test/xml/00181.txt',\n",
       " '/home/jun/Github/Data/Thesis-Data/Ripe-Raw-ok/test/xml/00589.txt',\n",
       " '/home/jun/Github/Data/Thesis-Data/Ripe-Raw-ok/test/xml/00475.txt',\n",
       " '/home/jun/Github/Data/Thesis-Data/Ripe-Raw-ok/test/xml/00248.txt',\n",
       " '/home/jun/Github/Data/Thesis-Data/Ripe-Raw-ok/test/xml/00554.txt',\n",
       " '/home/jun/Github/Data/Thesis-Data/Ripe-Raw-ok/test/xml/00412.txt',\n",
       " '/home/jun/Github/Data/Thesis-Data/Ripe-Raw-ok/test/xml/00367.txt',\n",
       " '/home/jun/Github/Data/Thesis-Data/Ripe-Raw-ok/test/xml/00415.txt',\n",
       " '/home/jun/Github/Data/Thesis-Data/Ripe-Raw-ok/test/xml/00162.txt',\n",
       " '/home/jun/Github/Data/Thesis-Data/Ripe-Raw-ok/test/xml/00019.txt',\n",
       " '/home/jun/Github/Data/Thesis-Data/Ripe-Raw-ok/test/xml/00376.txt',\n",
       " '/home/jun/Github/Data/Thesis-Data/Ripe-Raw-ok/test/xml/00350.txt',\n",
       " '/home/jun/Github/Data/Thesis-Data/Ripe-Raw-ok/test/xml/00134.txt',\n",
       " '/home/jun/Github/Data/Thesis-Data/Ripe-Raw-ok/test/xml/00471.txt',\n",
       " '/home/jun/Github/Data/Thesis-Data/Ripe-Raw-ok/test/xml/00587.txt',\n",
       " '/home/jun/Github/Data/Thesis-Data/Ripe-Raw-ok/test/xml/00073.txt',\n",
       " '/home/jun/Github/Data/Thesis-Data/Ripe-Raw-ok/test/xml/00339.txt',\n",
       " '/home/jun/Github/Data/Thesis-Data/Ripe-Raw-ok/test/xml/00032.txt',\n",
       " '/home/jun/Github/Data/Thesis-Data/Ripe-Raw-ok/test/xml/00258.txt',\n",
       " '/home/jun/Github/Data/Thesis-Data/Ripe-Raw-ok/test/xml/00477.txt',\n",
       " '/home/jun/Github/Data/Thesis-Data/Ripe-Raw-ok/test/xml/00133.txt',\n",
       " '/home/jun/Github/Data/Thesis-Data/Ripe-Raw-ok/test/xml/00427.txt',\n",
       " '/home/jun/Github/Data/Thesis-Data/Ripe-Raw-ok/test/xml/00001.txt',\n",
       " '/home/jun/Github/Data/Thesis-Data/Ripe-Raw-ok/test/xml/00547.txt',\n",
       " '/home/jun/Github/Data/Thesis-Data/Ripe-Raw-ok/test/xml/00201.txt',\n",
       " '/home/jun/Github/Data/Thesis-Data/Ripe-Raw-ok/test/xml/00125.txt',\n",
       " '/home/jun/Github/Data/Thesis-Data/Ripe-Raw-ok/test/xml/00165.txt',\n",
       " '/home/jun/Github/Data/Thesis-Data/Ripe-Raw-ok/test/xml/00280.txt',\n",
       " '/home/jun/Github/Data/Thesis-Data/Ripe-Raw-ok/test/xml/00342.txt',\n",
       " '/home/jun/Github/Data/Thesis-Data/Ripe-Raw-ok/test/xml/00168.txt',\n",
       " '/home/jun/Github/Data/Thesis-Data/Ripe-Raw-ok/test/xml/00257.txt',\n",
       " '/home/jun/Github/Data/Thesis-Data/Ripe-Raw-ok/test/xml/00522.txt',\n",
       " '/home/jun/Github/Data/Thesis-Data/Ripe-Raw-ok/test/xml/00371.txt',\n",
       " '/home/jun/Github/Data/Thesis-Data/Ripe-Raw-ok/test/xml/00612.txt',\n",
       " '/home/jun/Github/Data/Thesis-Data/Ripe-Raw-ok/test/xml/00217.txt',\n",
       " '/home/jun/Github/Data/Thesis-Data/Ripe-Raw-ok/test/xml/00066.txt',\n",
       " '/home/jun/Github/Data/Thesis-Data/Ripe-Raw-ok/test/xml/00452.txt',\n",
       " '/home/jun/Github/Data/Thesis-Data/Ripe-Raw-ok/test/xml/00490.txt',\n",
       " '/home/jun/Github/Data/Thesis-Data/Ripe-Raw-ok/test/xml/00090.txt',\n",
       " '/home/jun/Github/Data/Thesis-Data/Ripe-Raw-ok/test/xml/00491.txt',\n",
       " '/home/jun/Github/Data/Thesis-Data/Ripe-Raw-ok/test/xml/00124.txt',\n",
       " '/home/jun/Github/Data/Thesis-Data/Ripe-Raw-ok/test/xml/00064.txt',\n",
       " '/home/jun/Github/Data/Thesis-Data/Ripe-Raw-ok/test/xml/00353.txt',\n",
       " '/home/jun/Github/Data/Thesis-Data/Ripe-Raw-ok/test/xml/00200.txt',\n",
       " '/home/jun/Github/Data/Thesis-Data/Ripe-Raw-ok/test/xml/00266.txt',\n",
       " '/home/jun/Github/Data/Thesis-Data/Ripe-Raw-ok/test/xml/00017.txt',\n",
       " '/home/jun/Github/Data/Thesis-Data/Ripe-Raw-ok/test/xml/00402.txt',\n",
       " '/home/jun/Github/Data/Thesis-Data/Ripe-Raw-ok/test/xml/00173.txt',\n",
       " '/home/jun/Github/Data/Thesis-Data/Ripe-Raw-ok/test/xml/00338.txt',\n",
       " '/home/jun/Github/Data/Thesis-Data/Ripe-Raw-ok/test/xml/00215.txt',\n",
       " '/home/jun/Github/Data/Thesis-Data/Ripe-Raw-ok/test/xml/00315.txt',\n",
       " '/home/jun/Github/Data/Thesis-Data/Ripe-Raw-ok/test/xml/00309.txt',\n",
       " '/home/jun/Github/Data/Thesis-Data/Ripe-Raw-ok/test/xml/00156.txt',\n",
       " '/home/jun/Github/Data/Thesis-Data/Ripe-Raw-ok/test/xml/00080.txt',\n",
       " '/home/jun/Github/Data/Thesis-Data/Ripe-Raw-ok/test/xml/00372.txt',\n",
       " '/home/jun/Github/Data/Thesis-Data/Ripe-Raw-ok/test/xml/00507.txt',\n",
       " '/home/jun/Github/Data/Thesis-Data/Ripe-Raw-ok/test/xml/00171.txt',\n",
       " '/home/jun/Github/Data/Thesis-Data/Ripe-Raw-ok/test/xml/00193.txt',\n",
       " '/home/jun/Github/Data/Thesis-Data/Ripe-Raw-ok/test/xml/00091.txt',\n",
       " '/home/jun/Github/Data/Thesis-Data/Ripe-Raw-ok/test/xml/00500.txt',\n",
       " '/home/jun/Github/Data/Thesis-Data/Ripe-Raw-ok/test/xml/00592.txt',\n",
       " '/home/jun/Github/Data/Thesis-Data/Ripe-Raw-ok/test/xml/00436.txt',\n",
       " '/home/jun/Github/Data/Thesis-Data/Ripe-Raw-ok/test/xml/00364.txt',\n",
       " '/home/jun/Github/Data/Thesis-Data/Ripe-Raw-ok/test/xml/00087.txt',\n",
       " '/home/jun/Github/Data/Thesis-Data/Ripe-Raw-ok/test/xml/00035.txt',\n",
       " '/home/jun/Github/Data/Thesis-Data/Ripe-Raw-ok/test/xml/00169.txt',\n",
       " '/home/jun/Github/Data/Thesis-Data/Ripe-Raw-ok/test/xml/00485.txt',\n",
       " '/home/jun/Github/Data/Thesis-Data/Ripe-Raw-ok/test/xml/00486.txt',\n",
       " '/home/jun/Github/Data/Thesis-Data/Ripe-Raw-ok/test/xml/00357.txt',\n",
       " '/home/jun/Github/Data/Thesis-Data/Ripe-Raw-ok/test/xml/00145.txt',\n",
       " '/home/jun/Github/Data/Thesis-Data/Ripe-Raw-ok/test/xml/00571.txt',\n",
       " '/home/jun/Github/Data/Thesis-Data/Ripe-Raw-ok/test/xml/00065.txt',\n",
       " '/home/jun/Github/Data/Thesis-Data/Ripe-Raw-ok/test/xml/00021.txt',\n",
       " '/home/jun/Github/Data/Thesis-Data/Ripe-Raw-ok/test/xml/00519.txt',\n",
       " '/home/jun/Github/Data/Thesis-Data/Ripe-Raw-ok/test/xml/00508.txt',\n",
       " '/home/jun/Github/Data/Thesis-Data/Ripe-Raw-ok/test/xml/00030.txt',\n",
       " '/home/jun/Github/Data/Thesis-Data/Ripe-Raw-ok/test/xml/00459.txt',\n",
       " '/home/jun/Github/Data/Thesis-Data/Ripe-Raw-ok/test/xml/00563.txt',\n",
       " '/home/jun/Github/Data/Thesis-Data/Ripe-Raw-ok/test/xml/00474.txt',\n",
       " '/home/jun/Github/Data/Thesis-Data/Ripe-Raw-ok/test/xml/00516.txt',\n",
       " '/home/jun/Github/Data/Thesis-Data/Ripe-Raw-ok/test/xml/00103.txt',\n",
       " '/home/jun/Github/Data/Thesis-Data/Ripe-Raw-ok/test/xml/00568.txt',\n",
       " '/home/jun/Github/Data/Thesis-Data/Ripe-Raw-ok/test/xml/00505.txt',\n",
       " '/home/jun/Github/Data/Thesis-Data/Ripe-Raw-ok/test/xml/00231.txt',\n",
       " '/home/jun/Github/Data/Thesis-Data/Ripe-Raw-ok/test/xml/00312.txt',\n",
       " '/home/jun/Github/Data/Thesis-Data/Ripe-Raw-ok/test/xml/00097.txt',\n",
       " '/home/jun/Github/Data/Thesis-Data/Ripe-Raw-ok/test/xml/00444.txt',\n",
       " '/home/jun/Github/Data/Thesis-Data/Ripe-Raw-ok/test/xml/00473.txt',\n",
       " '/home/jun/Github/Data/Thesis-Data/Ripe-Raw-ok/test/xml/00409.txt',\n",
       " '/home/jun/Github/Data/Thesis-Data/Ripe-Raw-ok/test/xml/00584.txt',\n",
       " '/home/jun/Github/Data/Thesis-Data/Ripe-Raw-ok/test/xml/00476.txt',\n",
       " '/home/jun/Github/Data/Thesis-Data/Ripe-Raw-ok/test/xml/00188.txt',\n",
       " '/home/jun/Github/Data/Thesis-Data/Ripe-Raw-ok/test/xml/00243.txt',\n",
       " '/home/jun/Github/Data/Thesis-Data/Ripe-Raw-ok/test/xml/00510.txt',\n",
       " '/home/jun/Github/Data/Thesis-Data/Ripe-Raw-ok/test/xml/00271.txt',\n",
       " '/home/jun/Github/Data/Thesis-Data/Ripe-Raw-ok/test/xml/00029.txt',\n",
       " '/home/jun/Github/Data/Thesis-Data/Ripe-Raw-ok/test/xml/00430.txt',\n",
       " '/home/jun/Github/Data/Thesis-Data/Ripe-Raw-ok/test/xml/00411.txt',\n",
       " '/home/jun/Github/Data/Thesis-Data/Ripe-Raw-ok/test/xml/00025.txt',\n",
       " '/home/jun/Github/Data/Thesis-Data/Ripe-Raw-ok/test/xml/00095.txt',\n",
       " '/home/jun/Github/Data/Thesis-Data/Ripe-Raw-ok/test/xml/00038.txt',\n",
       " '/home/jun/Github/Data/Thesis-Data/Ripe-Raw-ok/test/xml/00499.txt',\n",
       " '/home/jun/Github/Data/Thesis-Data/Ripe-Raw-ok/test/xml/00263.txt',\n",
       " '/home/jun/Github/Data/Thesis-Data/Ripe-Raw-ok/test/xml/00242.txt',\n",
       " '/home/jun/Github/Data/Thesis-Data/Ripe-Raw-ok/test/xml/00501.txt',\n",
       " '/home/jun/Github/Data/Thesis-Data/Ripe-Raw-ok/test/xml/00546.txt',\n",
       " '/home/jun/Github/Data/Thesis-Data/Ripe-Raw-ok/test/xml/00514.txt',\n",
       " '/home/jun/Github/Data/Thesis-Data/Ripe-Raw-ok/test/xml/00348.txt',\n",
       " '/home/jun/Github/Data/Thesis-Data/Ripe-Raw-ok/test/xml/00196.txt',\n",
       " '/home/jun/Github/Data/Thesis-Data/Ripe-Raw-ok/test/xml/00273.txt',\n",
       " '/home/jun/Github/Data/Thesis-Data/Ripe-Raw-ok/test/xml/00523.txt',\n",
       " '/home/jun/Github/Data/Thesis-Data/Ripe-Raw-ok/test/xml/00405.txt',\n",
       " '/home/jun/Github/Data/Thesis-Data/Ripe-Raw-ok/test/xml/00175.txt',\n",
       " '/home/jun/Github/Data/Thesis-Data/Ripe-Raw-ok/test/xml/00469.txt',\n",
       " '/home/jun/Github/Data/Thesis-Data/Ripe-Raw-ok/test/xml/00521.txt',\n",
       " '/home/jun/Github/Data/Thesis-Data/Ripe-Raw-ok/test/xml/00545.txt',\n",
       " '/home/jun/Github/Data/Thesis-Data/Ripe-Raw-ok/test/xml/00570.txt',\n",
       " '/home/jun/Github/Data/Thesis-Data/Ripe-Raw-ok/test/xml/00318.txt',\n",
       " '/home/jun/Github/Data/Thesis-Data/Ripe-Raw-ok/test/xml/00131.txt',\n",
       " '/home/jun/Github/Data/Thesis-Data/Ripe-Raw-ok/test/xml/00492.txt',\n",
       " '/home/jun/Github/Data/Thesis-Data/Ripe-Raw-ok/test/xml/00237.txt',\n",
       " '/home/jun/Github/Data/Thesis-Data/Ripe-Raw-ok/test/xml/00419.txt',\n",
       " '/home/jun/Github/Data/Thesis-Data/Ripe-Raw-ok/test/xml/00525.txt',\n",
       " '/home/jun/Github/Data/Thesis-Data/Ripe-Raw-ok/test/xml/00255.txt',\n",
       " '/home/jun/Github/Data/Thesis-Data/Ripe-Raw-ok/test/xml/00067.txt',\n",
       " '/home/jun/Github/Data/Thesis-Data/Ripe-Raw-ok/test/xml/00260.txt']"
      ]
     },
     "execution_count": 51,
     "metadata": {},
     "output_type": "execute_result"
    }
   ],
   "source": [
    "annotations"
   ]
  },
  {
   "cell_type": "code",
   "execution_count": 52,
   "metadata": {
    "pycharm": {
     "name": "#%%\n"
    }
   },
   "outputs": [],
   "source": [
    "random.seed(0)\n",
    "\n",
    "class_id_to_name_mapping = dict(zip(class_name_to_id_mapping.values(), class_name_to_id_mapping.keys()))\n",
    "\n",
    "\n",
    "def plot_bounding_box(image, annotation_list):\n",
    "    annotations = np.array(annotation_list)\n",
    "    w, h = image.size\n",
    "\n",
    "    plotted_image = ImageDraw.Draw(image)\n",
    "\n",
    "    transformed_annotations = np.copy(annotations)\n",
    "    transformed_annotations[:, [1, 3]] = annotations[:, [1, 3]] * w\n",
    "    transformed_annotations[:, [2, 4]] = annotations[:, [2, 4]] * h\n",
    "\n",
    "    transformed_annotations[:, 1] = transformed_annotations[:, 1] - (transformed_annotations[:, 3] / 2)\n",
    "    transformed_annotations[:, 2] = transformed_annotations[:, 2] - (transformed_annotations[:, 4] / 2)\n",
    "    transformed_annotations[:, 3] = transformed_annotations[:, 1] + transformed_annotations[:, 3]\n",
    "    transformed_annotations[:, 4] = transformed_annotations[:, 2] + transformed_annotations[:, 4]\n",
    "\n",
    "    for ann in transformed_annotations:\n",
    "        obj_cls, x0, y0, x1, y1 = ann\n",
    "        plotted_image.rectangle(((x0, y0), (x1, y1)))\n",
    "\n",
    "        plotted_image.text((x0, y0 - 10), class_id_to_name_mapping[(int(obj_cls))])\n",
    "\n",
    "    plt.imshow(np.array(image))\n",
    "    plt.show()"
   ]
  },
  {
   "cell_type": "code",
   "execution_count": 53,
   "metadata": {},
   "outputs": [],
   "source": [
    "# Get any random annotation file\n",
    "annotation_file = random.choice(annotations)"
   ]
  },
  {
   "cell_type": "code",
   "execution_count": 54,
   "metadata": {},
   "outputs": [
    {
     "data": {
      "text/plain": [
       "'/home/jun/Github/Data/Thesis-Data/Ripe-Raw-ok/test/xml/00094.txt'"
      ]
     },
     "execution_count": 54,
     "metadata": {},
     "output_type": "execute_result"
    }
   ],
   "source": [
    "annotation_file"
   ]
  },
  {
   "cell_type": "code",
   "execution_count": 55,
   "metadata": {
    "pycharm": {
     "name": "#%%\n"
    }
   },
   "outputs": [
    {
     "data": {
      "image/png": "[encoded data removed]",
      "text/plain": [
       "<Figure size 432x288 with 1 Axes>"
      ]
     },
     "metadata": {
      "needs_background": "light"
     },
     "output_type": "display_data"
    }
   ],
   "source": [
    "\n",
    "with open(annotation_file, \"r\") as file:\n",
    "    annotation_list = file.read().split(\"\\n\")[:-1]\n",
    "    annotation_list = [x.split(\" \") for x in annotation_list]\n",
    "    annotation_list = [[float(y) for y in x] for x in annotation_list]\n",
    "\n",
    "# Get the corresponding image file\n",
    "image_file = annotation_file.replace(\"xml\", \"img\").replace(\"txt\", \"jpg\")\n",
    "assert os.path.exists(image_file)\n",
    "\n",
    "# Load the image\n",
    "image = Image.open(image_file)\n",
    "\n",
    "# Plot the Bounding Box\n",
    "plot_bounding_box(image, annotation_list)"
   ]
  },
  {
   "cell_type": "code",
   "execution_count": 56,
   "metadata": {
    "pycharm": {
     "name": "#%%\n"
    }
   },
   "outputs": [],
   "source": [
    "DATA_PATH = \"/home/jun/Github/Data/Thesis-Data/Ripe-Raw-ok/test/\""
   ]
  },
  {
   "cell_type": "code",
   "execution_count": 57,
   "metadata": {
    "pycharm": {
     "name": "#%%\n"
    }
   },
   "outputs": [],
   "source": [
    "# Read images and annotations\n",
    "images = [os.path.join(IMAGE_PATH, x) for x in os.listdir(DATA_PATH + 'img')]\n",
    "annotations = [os.path.join(ANNOTATION_PATH, x) for x in os.listdir(DATA_PATH + 'xml') if x[-3:] == \"txt\"]\n",
    "\n",
    "images.sort()\n",
    "annotations.sort()\n"
   ]
  },
  {
   "cell_type": "code",
   "execution_count": 111,
   "metadata": {
    "pycharm": {
     "name": "#%%\n"
    }
   },
   "outputs": [
    {
     "name": "stdout",
     "output_type": "stream",
     "text": [
      "mkdir: cannot create directory ‘images/train’: No such file or directory\r\n",
      "mkdir: cannot create directory ‘images/val’: No such file or directory\r\n",
      "mkdir: cannot create directory ‘images/test’: No such file or directory\r\n",
      "mkdir: cannot create directory ‘annotations/train’: No such file or directory\r\n",
      "mkdir: cannot create directory ‘annotations/val’: No such file or directory\r\n",
      "mkdir: cannot create directory ‘annotations/test’: No such file or directory\r\n"
     ]
    }
   ],
   "source": [
    "# # Split the dataset into train-valid-test splits\n",
    "# train_images, val_images, train_annotations, val_annotations = train_test_split(images, annotations, test_size = 0.2, random_state = 1)\n",
    "# val_images, test_images, val_annotations, test_annotations = train_test_split(val_images, val_annotations, test_size = 0.5, random_state = 1)"
   ]
  },
  {
   "cell_type": "code",
   "execution_count": 58,
   "metadata": {
    "pycharm": {
     "name": "#%%\n"
    }
   },
   "outputs": [],
   "source": [
    "#Utility function to move images\n",
    "def move_files_to_folder(list_of_files, destination_folder):\n",
    "    for f in list_of_files:\n",
    "        try:\n",
    "            shutil.move(f, destination_folder)\n",
    "        except:\n",
    "            print(f)\n",
    "            assert False\n"
   ]
  },
  {
   "cell_type": "code",
   "execution_count": 59,
   "metadata": {
    "pycharm": {
     "name": "#%%\n"
    }
   },
   "outputs": [],
   "source": [
    "# Move the splits into their folders\n",
    "move_files_to_folder(images, 'images/test/')\n",
    "move_files_to_folder(annotations, 'labels/test/')"
   ]
  },
  {
   "cell_type": "code",
   "execution_count": 128,
   "metadata": {
    "pycharm": {
     "name": "#%%\n"
    }
   },
   "outputs": [],
   "source": [
    "!cd yolov5"
   ]
  },
  {
   "cell_type": "code",
   "execution_count": 62,
   "metadata": {
    "pycharm": {
     "name": "#%%\n"
    }
   },
   "outputs": [
    {
     "name": "stdout",
     "output_type": "stream",
     "text": [
      "/home/jun/Github/FruitCountingEngine/Model/Yolo\n"
     ]
    }
   ],
   "source": [
    "!pwd"
   ]
  },
  {
   "cell_type": "code",
   "execution_count": 61,
   "metadata": {},
   "outputs": [],
   "source": [
    "!cd yolov5"
   ]
  },
  {
   "cell_type": "code",
   "execution_count": 12,
   "metadata": {
    "pycharm": {
     "name": "#%%\n"
    }
   },
   "outputs": [
    {
     "name": "stdout",
     "output_type": "stream",
     "text": [
      "\u001b[34m\u001b[1mgithub: \u001b[0mskipping check (not a git repository)\n",
      "\u001b[31m\u001b[1mrequirements:\u001b[0m /home/jun/Github/FruitCountingEngine/Model/Yolo/requirements.txt not found, check failed.\n",
      "YOLOv5 🚀 bb409c8 torch 1.12.0 CUDA:0 (NVIDIA GeForce GTX 1080, 8111.125MB)\n",
      "\n",
      "Namespace(adam=False, artifact_alias='latest', batch_size=32, bbox_interval=-1, bucket='', cache_images=False, cfg='./yolov5/models/yolov5s.yaml', data='./yolov5/data/fruit.yaml', device='', entity=None, epochs=100, evolve=False, exist_ok=False, global_rank=-1, hyp='./yolov5/data/hyp.scratch.yaml', image_weights=False, img_size=[300, 300], label_smoothing=0.0, linear_lr=False, local_rank=-1, multi_scale=False, name='dragon-fruit', noautoanchor=False, nosave=False, notest=False, project='runs/train', quad=False, rect=False, resume=False, save_dir='runs/train/dragon-fruit6', save_period=-1, single_cls=False, sync_bn=False, total_batch_size=32, upload_dataset=False, weights='yolov5s.pt', workers=24, world_size=1)\n",
      "\u001b[34m\u001b[1mtensorboard: \u001b[0mStart with 'tensorboard --logdir runs/train', view at http://localhost:6006/\n",
      "\u001b[34m\u001b[1mhyperparameters: \u001b[0mlr0=0.01, lrf=0.2, momentum=0.937, weight_decay=0.0005, warmup_epochs=3.0, warmup_momentum=0.8, warmup_bias_lr=0.1, box=0.05, cls=0.5, cls_pw=1.0, obj=1.0, obj_pw=1.0, iou_t=0.2, anchor_t=4.0, fl_gamma=0.0, hsv_h=0.015, hsv_s=0.7, hsv_v=0.4, degrees=0.0, translate=0.1, scale=0.5, shear=0.0, perspective=0.0, flipud=0.0, fliplr=0.5, mosaic=1.0, mixup=0.0\n",
      "\u001b[34m\u001b[1mwandb\u001b[0m: (1) Create a W&B account\n",
      "\u001b[34m\u001b[1mwandb\u001b[0m: (2) Use an existing W&B account\n",
      "\u001b[34m\u001b[1mwandb\u001b[0m: (3) Don't visualize my results\n",
      "\u001b[34m\u001b[1mwandb\u001b[0m: Enter your choice: ^C\n",
      "Traceback (most recent call last):\n",
      "  File \"yolov5/train.py\", line 543, in <module>\n",
      "    train(hyp, opt, device, tb_writer)\n",
      "  File \"yolov5/train.py\", line 72, in train\n",
      "    wandb_logger = WandbLogger(opt, Path(opt.save_dir).stem, run_id, data_dict)\n",
      "  File \"/home/jun/Github/FruitCountingEngine/Model/Yolo/yolov5/utils/wandb_logging/wandb_utils.py\", line 95, in __init__\n",
      "    self.wandb_run = wandb.init(config=opt,\n",
      "  File \"/home/jun/miniconda3/envs/Model/lib/python3.8/site-packages/wandb/sdk/wandb_init.py\", line 1065, in init\n",
      "    raise e\n",
      "  File \"/home/jun/miniconda3/envs/Model/lib/python3.8/site-packages/wandb/sdk/wandb_init.py\", line 1040, in init\n",
      "    wi.setup(kwargs)\n",
      "  File \"/home/jun/miniconda3/envs/Model/lib/python3.8/site-packages/wandb/sdk/wandb_init.py\", line 259, in setup\n",
      "    wandb_login._login(\n",
      "  File \"/home/jun/miniconda3/envs/Model/lib/python3.8/site-packages/wandb/sdk/wandb_login.py\", line 297, in _login\n",
      "    wlogin.prompt_api_key()\n",
      "  File \"/home/jun/miniconda3/envs/Model/lib/python3.8/site-packages/wandb/sdk/wandb_login.py\", line 220, in prompt_api_key\n",
      "    key, status = self._prompt_api_key()\n",
      "  File \"/home/jun/miniconda3/envs/Model/lib/python3.8/site-packages/wandb/sdk/wandb_login.py\", line 200, in _prompt_api_key\n",
      "    key = apikey.prompt_api_key(\n",
      "  File \"/home/jun/miniconda3/envs/Model/lib/python3.8/site-packages/wandb/sdk/lib/apikey.py\", line 97, in prompt_api_key\n",
      "    result = prompt_choices(\n",
      "  File \"/home/jun/miniconda3/envs/Model/lib/python3.8/site-packages/wandb/util.py\", line 1170, in prompt_choices\n",
      "    choice = _prompt_choice(input_timeout=input_timeout, jupyter=jupyter)\n",
      "  File \"/home/jun/miniconda3/envs/Model/lib/python3.8/site-packages/wandb/util.py\", line 1153, in _prompt_choice\n",
      "    choice = input_fn(text)\n",
      "KeyboardInterrupt\n"
     ]
    }
   ],
   "source": [
    "!python train.py --img 300 --cfg yolov5s.yaml --hyp hyp.scratch.yaml --batch 32 --epochs 100 --data fruit.yaml --weights yolov5s.pt --workers 24 --name dragon-fruit\n"
   ]
  },
  {
   "cell_type": "code",
   "execution_count": null,
   "metadata": {
    "pycharm": {
     "name": "#%%\n"
    }
   },
   "outputs": [],
   "source": []
  },
  {
   "cell_type": "code",
   "execution_count": null,
   "metadata": {
    "pycharm": {
     "name": "#%%\n"
    }
   },
   "outputs": [],
   "source": []
  },
  {
   "cell_type": "code",
   "execution_count": null,
   "metadata": {
    "pycharm": {
     "name": "#%%\n"
    }
   },
   "outputs": [],
   "source": []
  },
  {
   "cell_type": "code",
   "execution_count": null,
   "metadata": {
    "pycharm": {
     "name": "#%%\n"
    }
   },
   "outputs": [],
   "source": []
  },
  {
   "cell_type": "code",
   "execution_count": null,
   "metadata": {
    "pycharm": {
     "name": "#%%\n"
    }
   },
   "outputs": [],
   "source": []
  }
 ],
 "metadata": {
  "interpreter": {
   "hash": "3ffef5d6708fd4e6ce0de9ac1b1b749b4ae0d7ddfeadf60a7aa35424eaf447e9"
  },
  "kernelspec": {
   "display_name": "Python 3 (ipykernel)",
   "language": "python",
   "name": "python3"
  },
  "language_info": {
   "codemirror_mode": {
    "name": "ipython",
    "version": 3
   },
   "file_extension": ".py",
   "mimetype": "text/x-python",
   "name": "python",
   "nbconvert_exporter": "python",
   "pygments_lexer": "ipython3",
   "version": "3.8.13"
  }
 },
 "nbformat": 4,
 "nbformat_minor": 1
}
